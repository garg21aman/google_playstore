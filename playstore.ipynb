{
 "cells": [
  {
   "cell_type": "code",
   "execution_count": 345,
   "id": "05e01c41",
   "metadata": {},
   "outputs": [],
   "source": [
    "import pandas as pd\n",
    "import regex as re\n",
    "import matplotlib.pyplot as plt\n",
    "import seaborn as sns"
   ]
  },
  {
   "cell_type": "code",
   "execution_count": 346,
   "id": "a414d3a3",
   "metadata": {},
   "outputs": [],
   "source": [
    "df=pd.read_csv(r\"C:\\Users\\91959\\Desktop\\codecademy\\googleplaystore.csv\")"
   ]
  },
  {
   "cell_type": "code",
   "execution_count": 347,
   "id": "485505f8",
   "metadata": {},
   "outputs": [
    {
     "data": {
      "text/html": [
       "<div>\n",
       "<style scoped>\n",
       "    .dataframe tbody tr th:only-of-type {\n",
       "        vertical-align: middle;\n",
       "    }\n",
       "\n",
       "    .dataframe tbody tr th {\n",
       "        vertical-align: top;\n",
       "    }\n",
       "\n",
       "    .dataframe thead th {\n",
       "        text-align: right;\n",
       "    }\n",
       "</style>\n",
       "<table border=\"1\" class=\"dataframe\">\n",
       "  <thead>\n",
       "    <tr style=\"text-align: right;\">\n",
       "      <th></th>\n",
       "      <th>App</th>\n",
       "      <th>Category</th>\n",
       "      <th>Rating</th>\n",
       "      <th>Reviews</th>\n",
       "      <th>Size</th>\n",
       "      <th>Installs</th>\n",
       "      <th>Type</th>\n",
       "      <th>Price</th>\n",
       "      <th>Content Rating</th>\n",
       "      <th>Genres</th>\n",
       "      <th>Last Updated</th>\n",
       "      <th>Current Ver</th>\n",
       "      <th>Android Ver</th>\n",
       "    </tr>\n",
       "  </thead>\n",
       "  <tbody>\n",
       "    <tr>\n",
       "      <th>0</th>\n",
       "      <td>Photo Editor &amp; Candy Camera &amp; Grid &amp; ScrapBook</td>\n",
       "      <td>ART_AND_DESIGN</td>\n",
       "      <td>4.1</td>\n",
       "      <td>159</td>\n",
       "      <td>19M</td>\n",
       "      <td>10,000+</td>\n",
       "      <td>Free</td>\n",
       "      <td>0</td>\n",
       "      <td>Everyone</td>\n",
       "      <td>Art &amp; Design</td>\n",
       "      <td>January 7, 2018</td>\n",
       "      <td>1.0.0</td>\n",
       "      <td>4.0.3 and up</td>\n",
       "    </tr>\n",
       "    <tr>\n",
       "      <th>1</th>\n",
       "      <td>Coloring book moana</td>\n",
       "      <td>ART_AND_DESIGN</td>\n",
       "      <td>3.9</td>\n",
       "      <td>967</td>\n",
       "      <td>14M</td>\n",
       "      <td>500,000+</td>\n",
       "      <td>Free</td>\n",
       "      <td>0</td>\n",
       "      <td>Everyone</td>\n",
       "      <td>Art &amp; Design;Pretend Play</td>\n",
       "      <td>January 15, 2018</td>\n",
       "      <td>2.0.0</td>\n",
       "      <td>4.0.3 and up</td>\n",
       "    </tr>\n",
       "    <tr>\n",
       "      <th>2</th>\n",
       "      <td>U Launcher Lite – FREE Live Cool Themes, Hide ...</td>\n",
       "      <td>ART_AND_DESIGN</td>\n",
       "      <td>4.7</td>\n",
       "      <td>87510</td>\n",
       "      <td>8.7M</td>\n",
       "      <td>5,000,000+</td>\n",
       "      <td>Free</td>\n",
       "      <td>0</td>\n",
       "      <td>Everyone</td>\n",
       "      <td>Art &amp; Design</td>\n",
       "      <td>August 1, 2018</td>\n",
       "      <td>1.2.4</td>\n",
       "      <td>4.0.3 and up</td>\n",
       "    </tr>\n",
       "    <tr>\n",
       "      <th>3</th>\n",
       "      <td>Sketch - Draw &amp; Paint</td>\n",
       "      <td>ART_AND_DESIGN</td>\n",
       "      <td>4.5</td>\n",
       "      <td>215644</td>\n",
       "      <td>25M</td>\n",
       "      <td>50,000,000+</td>\n",
       "      <td>Free</td>\n",
       "      <td>0</td>\n",
       "      <td>Teen</td>\n",
       "      <td>Art &amp; Design</td>\n",
       "      <td>June 8, 2018</td>\n",
       "      <td>Varies with device</td>\n",
       "      <td>4.2 and up</td>\n",
       "    </tr>\n",
       "    <tr>\n",
       "      <th>4</th>\n",
       "      <td>Pixel Draw - Number Art Coloring Book</td>\n",
       "      <td>ART_AND_DESIGN</td>\n",
       "      <td>4.3</td>\n",
       "      <td>967</td>\n",
       "      <td>2.8M</td>\n",
       "      <td>100,000+</td>\n",
       "      <td>Free</td>\n",
       "      <td>0</td>\n",
       "      <td>Everyone</td>\n",
       "      <td>Art &amp; Design;Creativity</td>\n",
       "      <td>June 20, 2018</td>\n",
       "      <td>1.1</td>\n",
       "      <td>4.4 and up</td>\n",
       "    </tr>\n",
       "  </tbody>\n",
       "</table>\n",
       "</div>"
      ],
      "text/plain": [
       "                                                 App        Category  Rating  \\\n",
       "0     Photo Editor & Candy Camera & Grid & ScrapBook  ART_AND_DESIGN     4.1   \n",
       "1                                Coloring book moana  ART_AND_DESIGN     3.9   \n",
       "2  U Launcher Lite – FREE Live Cool Themes, Hide ...  ART_AND_DESIGN     4.7   \n",
       "3                              Sketch - Draw & Paint  ART_AND_DESIGN     4.5   \n",
       "4              Pixel Draw - Number Art Coloring Book  ART_AND_DESIGN     4.3   \n",
       "\n",
       "  Reviews  Size     Installs  Type Price Content Rating  \\\n",
       "0     159   19M      10,000+  Free     0       Everyone   \n",
       "1     967   14M     500,000+  Free     0       Everyone   \n",
       "2   87510  8.7M   5,000,000+  Free     0       Everyone   \n",
       "3  215644   25M  50,000,000+  Free     0           Teen   \n",
       "4     967  2.8M     100,000+  Free     0       Everyone   \n",
       "\n",
       "                      Genres      Last Updated         Current Ver  \\\n",
       "0               Art & Design   January 7, 2018               1.0.0   \n",
       "1  Art & Design;Pretend Play  January 15, 2018               2.0.0   \n",
       "2               Art & Design    August 1, 2018               1.2.4   \n",
       "3               Art & Design      June 8, 2018  Varies with device   \n",
       "4    Art & Design;Creativity     June 20, 2018                 1.1   \n",
       "\n",
       "    Android Ver  \n",
       "0  4.0.3 and up  \n",
       "1  4.0.3 and up  \n",
       "2  4.0.3 and up  \n",
       "3    4.2 and up  \n",
       "4    4.4 and up  "
      ]
     },
     "execution_count": 347,
     "metadata": {},
     "output_type": "execute_result"
    }
   ],
   "source": [
    "df = df.drop_duplicates(keep=\"first\")\n",
    "df.head()"
   ]
  },
  {
   "cell_type": "code",
   "execution_count": 348,
   "id": "52f4489e",
   "metadata": {},
   "outputs": [
    {
     "data": {
      "text/html": [
       "<div>\n",
       "<style scoped>\n",
       "    .dataframe tbody tr th:only-of-type {\n",
       "        vertical-align: middle;\n",
       "    }\n",
       "\n",
       "    .dataframe tbody tr th {\n",
       "        vertical-align: top;\n",
       "    }\n",
       "\n",
       "    .dataframe thead th {\n",
       "        text-align: right;\n",
       "    }\n",
       "</style>\n",
       "<table border=\"1\" class=\"dataframe\">\n",
       "  <thead>\n",
       "    <tr style=\"text-align: right;\">\n",
       "      <th></th>\n",
       "      <th>Rating</th>\n",
       "    </tr>\n",
       "  </thead>\n",
       "  <tbody>\n",
       "    <tr>\n",
       "      <th>count</th>\n",
       "      <td>8893.000000</td>\n",
       "    </tr>\n",
       "    <tr>\n",
       "      <th>mean</th>\n",
       "      <td>4.189542</td>\n",
       "    </tr>\n",
       "    <tr>\n",
       "      <th>std</th>\n",
       "      <td>0.545452</td>\n",
       "    </tr>\n",
       "    <tr>\n",
       "      <th>min</th>\n",
       "      <td>1.000000</td>\n",
       "    </tr>\n",
       "    <tr>\n",
       "      <th>25%</th>\n",
       "      <td>4.000000</td>\n",
       "    </tr>\n",
       "    <tr>\n",
       "      <th>50%</th>\n",
       "      <td>4.300000</td>\n",
       "    </tr>\n",
       "    <tr>\n",
       "      <th>75%</th>\n",
       "      <td>4.500000</td>\n",
       "    </tr>\n",
       "    <tr>\n",
       "      <th>max</th>\n",
       "      <td>19.000000</td>\n",
       "    </tr>\n",
       "  </tbody>\n",
       "</table>\n",
       "</div>"
      ],
      "text/plain": [
       "            Rating\n",
       "count  8893.000000\n",
       "mean      4.189542\n",
       "std       0.545452\n",
       "min       1.000000\n",
       "25%       4.000000\n",
       "50%       4.300000\n",
       "75%       4.500000\n",
       "max      19.000000"
      ]
     },
     "execution_count": 348,
     "metadata": {},
     "output_type": "execute_result"
    }
   ],
   "source": [
    "# get summary of data\n",
    "df.describe()"
   ]
  },
  {
   "cell_type": "markdown",
   "id": "dfee1254",
   "metadata": {},
   "source": [
    "Observations:\n",
    "- there are around 9k apps in the data\n",
    "- mean rating is >4.\n",
    "- there are few columns which should have been  numerical"
   ]
  },
  {
   "cell_type": "code",
   "execution_count": 349,
   "id": "7b01adc7",
   "metadata": {},
   "outputs": [
    {
     "data": {
      "text/plain": [
       "App                object\n",
       "Category           object\n",
       "Rating            float64\n",
       "Reviews            object\n",
       "Size               object\n",
       "Installs           object\n",
       "Type               object\n",
       "Price              object\n",
       "Content Rating     object\n",
       "Genres             object\n",
       "Last Updated       object\n",
       "Current Ver        object\n",
       "Android Ver        object\n",
       "dtype: object"
      ]
     },
     "execution_count": 349,
     "metadata": {},
     "output_type": "execute_result"
    }
   ],
   "source": [
    "df.dtypes"
   ]
  },
  {
   "cell_type": "markdown",
   "id": "6b2aa1f5",
   "metadata": {},
   "source": [
    "Out of the above the following should be numerical:\n",
    "- reviews\n",
    "- size\n",
    "- installs\n",
    "- price"
   ]
  },
  {
   "cell_type": "code",
   "execution_count": 350,
   "id": "7105c663",
   "metadata": {},
   "outputs": [],
   "source": [
    "df[\"Reviews_conv\"] = pd.to_numeric(df[\"Reviews\"], errors='coerce')\n",
    "df[\"Size_conv\"] = pd.to_numeric(df[\"Size\"], errors='coerce')\n",
    "df[\"Installs_conv\"] = pd.to_numeric(df[\"Installs\"], errors='coerce')\n",
    "df[\"Price_conv\"] = pd.to_numeric(df[\"Price\"], errors='coerce')"
   ]
  },
  {
   "cell_type": "code",
   "execution_count": 351,
   "id": "aa343f58",
   "metadata": {},
   "outputs": [
    {
     "data": {
      "text/plain": [
       "App                   0\n",
       "Category              0\n",
       "Rating             1465\n",
       "Reviews               0\n",
       "Size                  0\n",
       "Installs              0\n",
       "Type                  1\n",
       "Price                 0\n",
       "Content Rating        1\n",
       "Genres                0\n",
       "Last Updated          0\n",
       "Current Ver           8\n",
       "Android Ver           3\n",
       "Reviews_conv          1\n",
       "Size_conv         10358\n",
       "Installs_conv     10357\n",
       "Price_conv          766\n",
       "dtype: int64"
      ]
     },
     "execution_count": 351,
     "metadata": {},
     "output_type": "execute_result"
    }
   ],
   "source": [
    "#checking null values\n",
    "df.isnull().sum()"
   ]
  },
  {
   "cell_type": "code",
   "execution_count": 352,
   "id": "b1d148d4",
   "metadata": {},
   "outputs": [
    {
     "data": {
      "text/plain": [
       "array(['10,000+', '500,000+', '5,000,000+', '50,000,000+', '100,000+',\n",
       "       '50,000+', '1,000,000+', '10,000,000+', '5,000+', '100,000,000+',\n",
       "       '1,000,000,000+', '1,000+', '500,000,000+', '50+', '100+', '500+',\n",
       "       '10+', '1+', '5+', '0+', 'Free'], dtype=object)"
      ]
     },
     "execution_count": 352,
     "metadata": {},
     "output_type": "execute_result"
    }
   ],
   "source": [
    "#size, installs,price and rating show high missing values\n",
    "# checking missing values\n",
    "df.loc[df[\"Installs_conv\"].isnull(),\"Installs\"].unique()"
   ]
  },
  {
   "cell_type": "code",
   "execution_count": 353,
   "id": "4d54f9a9",
   "metadata": {},
   "outputs": [
    {
     "data": {
      "text/plain": [
       "array(['$4.99', '$3.99', '$6.99', '$1.49', '$2.99', '$7.99', '$5.99',\n",
       "       '$3.49', '$1.99', '$9.99', '$7.49', '$0.99', '$9.00', '$5.49',\n",
       "       '$10.00', '$24.99', '$11.99', '$79.99', '$16.99', '$14.99',\n",
       "       '$1.00', '$29.99', '$12.99', '$2.49', '$10.99', '$1.50', '$19.99',\n",
       "       '$15.99', '$33.99', '$74.99', '$39.99', '$3.95', '$4.49', '$1.70',\n",
       "       '$8.99', '$2.00', '$3.88', '$25.99', '$399.99', '$17.99',\n",
       "       '$400.00', '$3.02', '$1.76', '$4.84', '$4.77', '$1.61', '$2.50',\n",
       "       '$1.59', '$6.49', '$1.29', '$5.00', '$13.99', '$299.99', '$379.99',\n",
       "       '$37.99', '$18.99', '$389.99', '$19.90', '$8.49', '$1.75',\n",
       "       '$14.00', '$4.85', '$46.99', '$109.99', '$154.99', '$3.08',\n",
       "       '$2.59', '$4.80', '$1.96', '$19.40', '$3.90', '$4.59', '$15.46',\n",
       "       '$3.04', '$4.29', '$2.60', '$3.28', '$4.60', '$28.99', '$2.95',\n",
       "       '$2.90', '$1.97', '$200.00', '$89.99', '$2.56', '$30.99', '$3.61',\n",
       "       '$394.99', '$1.26', 'Everyone', '$1.20', '$1.04'], dtype=object)"
      ]
     },
     "execution_count": 353,
     "metadata": {},
     "output_type": "execute_result"
    }
   ],
   "source": [
    "df.loc[df[\"Price_conv\"].isnull(),\"Price\"].unique()"
   ]
  },
  {
   "cell_type": "code",
   "execution_count": 354,
   "id": "d333aca1",
   "metadata": {},
   "outputs": [
    {
     "data": {
      "text/plain": [
       "array(['19M', '14M', '8.7M', '25M', '2.8M', '5.6M', '29M', '33M', '3.1M',\n",
       "       '28M', '12M', '20M', '21M', '37M', '2.7M', '5.5M', '17M', '39M',\n",
       "       '31M', '4.2M', '7.0M', '23M', '6.0M', '6.1M', '4.6M', '9.2M',\n",
       "       '5.2M', '11M', '24M', 'Varies with device', '9.4M', '15M', '10M',\n",
       "       '1.2M', '26M', '8.0M', '7.9M', '56M', '57M', '35M', '54M', '201k',\n",
       "       '3.6M', '5.7M', '8.6M', '2.4M', '27M', '2.5M', '16M', '3.4M',\n",
       "       '8.9M', '3.9M', '2.9M', '38M', '32M', '5.4M', '18M', '1.1M',\n",
       "       '2.2M', '4.5M', '9.8M', '52M', '9.0M', '6.7M', '30M', '2.6M',\n",
       "       '7.1M', '3.7M', '22M', '7.4M', '6.4M', '3.2M', '8.2M', '9.9M',\n",
       "       '4.9M', '9.5M', '5.0M', '5.9M', '13M', '73M', '6.8M', '3.5M',\n",
       "       '4.0M', '2.3M', '7.2M', '2.1M', '42M', '7.3M', '9.1M', '55M',\n",
       "       '23k', '6.5M', '1.5M', '7.5M', '51M', '41M', '48M', '8.5M', '46M',\n",
       "       '8.3M', '4.3M', '4.7M', '3.3M', '40M', '7.8M', '8.8M', '6.6M',\n",
       "       '5.1M', '61M', '66M', '79k', '8.4M', '118k', '44M', '695k', '1.6M',\n",
       "       '6.2M', '18k', '53M', '1.4M', '3.0M', '5.8M', '3.8M', '9.6M',\n",
       "       '45M', '63M', '49M', '77M', '4.4M', '4.8M', '70M', '6.9M', '9.3M',\n",
       "       '10.0M', '8.1M', '36M', '84M', '97M', '2.0M', '1.9M', '1.8M',\n",
       "       '5.3M', '47M', '556k', '526k', '76M', '7.6M', '59M', '9.7M', '78M',\n",
       "       '72M', '43M', '7.7M', '6.3M', '334k', '34M', '93M', '65M', '79M',\n",
       "       '100M', '58M', '50M', '68M', '64M', '67M', '60M', '94M', '232k',\n",
       "       '99M', '624k', '95M', '8.5k', '41k', '292k', '11k', '80M', '1.7M',\n",
       "       '74M', '62M', '69M', '75M', '98M', '85M', '82M', '96M', '87M',\n",
       "       '71M', '86M', '91M', '81M', '92M', '83M', '88M', '704k', '862k',\n",
       "       '899k', '378k', '266k', '375k', '1.3M', '975k', '980k', '4.1M',\n",
       "       '89M', '696k', '544k', '525k', '920k', '779k', '853k', '720k',\n",
       "       '713k', '772k', '318k', '58k', '241k', '196k', '857k', '51k',\n",
       "       '953k', '865k', '251k', '930k', '540k', '313k', '746k', '203k',\n",
       "       '26k', '314k', '239k', '371k', '220k', '730k', '756k', '91k',\n",
       "       '293k', '17k', '74k', '14k', '317k', '78k', '924k', '902k', '818k',\n",
       "       '81k', '939k', '169k', '45k', '475k', '965k', '90M', '545k', '61k',\n",
       "       '283k', '655k', '714k', '93k', '872k', '121k', '322k', '1.0M',\n",
       "       '976k', '172k', '238k', '549k', '206k', '954k', '444k', '717k',\n",
       "       '210k', '609k', '308k', '705k', '306k', '904k', '473k', '175k',\n",
       "       '350k', '383k', '454k', '421k', '70k', '812k', '442k', '842k',\n",
       "       '417k', '412k', '459k', '478k', '335k', '782k', '721k', '430k',\n",
       "       '429k', '192k', '200k', '460k', '728k', '496k', '816k', '414k',\n",
       "       '506k', '887k', '613k', '243k', '569k', '778k', '683k', '592k',\n",
       "       '319k', '186k', '840k', '647k', '191k', '373k', '437k', '598k',\n",
       "       '716k', '585k', '982k', '222k', '219k', '55k', '948k', '323k',\n",
       "       '691k', '511k', '951k', '963k', '25k', '554k', '351k', '27k',\n",
       "       '82k', '208k', '913k', '514k', '551k', '29k', '103k', '898k',\n",
       "       '743k', '116k', '153k', '209k', '353k', '499k', '173k', '597k',\n",
       "       '809k', '122k', '411k', '400k', '801k', '787k', '237k', '50k',\n",
       "       '643k', '986k', '97k', '516k', '837k', '780k', '961k', '269k',\n",
       "       '20k', '498k', '600k', '749k', '642k', '881k', '72k', '656k',\n",
       "       '601k', '221k', '228k', '108k', '940k', '176k', '33k', '663k',\n",
       "       '34k', '942k', '259k', '164k', '458k', '245k', '629k', '28k',\n",
       "       '288k', '775k', '785k', '636k', '916k', '994k', '309k', '485k',\n",
       "       '914k', '903k', '608k', '500k', '54k', '562k', '847k', '957k',\n",
       "       '688k', '811k', '270k', '48k', '329k', '523k', '921k', '874k',\n",
       "       '981k', '784k', '280k', '24k', '518k', '754k', '892k', '154k',\n",
       "       '860k', '364k', '387k', '626k', '161k', '879k', '39k', '970k',\n",
       "       '170k', '141k', '160k', '144k', '143k', '190k', '376k', '193k',\n",
       "       '246k', '73k', '658k', '992k', '253k', '420k', '404k', '1,000+',\n",
       "       '470k', '226k', '240k', '89k', '234k', '257k', '861k', '467k',\n",
       "       '157k', '44k', '676k', '67k', '552k', '885k', '1020k', '582k',\n",
       "       '619k'], dtype=object)"
      ]
     },
     "execution_count": 354,
     "metadata": {},
     "output_type": "execute_result"
    }
   ],
   "source": [
    "df.loc[df[\"Size_conv\"].isnull(),\"Size\"].unique()"
   ]
  },
  {
   "cell_type": "code",
   "execution_count": 355,
   "id": "a0254ade",
   "metadata": {},
   "outputs": [
    {
     "data": {
      "text/plain": [
       "array([nan])"
      ]
     },
     "execution_count": 355,
     "metadata": {},
     "output_type": "execute_result"
    }
   ],
   "source": [
    "df.loc[df[\"Rating\"].isnull(),\"Rating\"].unique()"
   ]
  },
  {
   "cell_type": "code",
   "execution_count": 356,
   "id": "b475f1b5",
   "metadata": {},
   "outputs": [],
   "source": [
    "df.loc[df[\"Rating\"].isnull(),\"Rating\"] = df[\"Rating\"].mean()"
   ]
  },
  {
   "cell_type": "code",
   "execution_count": 357,
   "id": "e78c8d37",
   "metadata": {},
   "outputs": [],
   "source": [
    "# converting price,size and installs\n",
    "df[\"Size_conv\"]=pd.to_numeric(df[\"Size\"].apply(lambda x: x[:-1]), errors='coerce')\n",
    "df[\"Installs_conv\"]=pd.to_numeric(df[\"Installs\"].apply(lambda x: x.replace(\",\",\"\").replace(\"+\",\"\")), errors='coerce')\n",
    "df[\"Price_conv\"]=pd.to_numeric(df[\"Price\"].apply(lambda x: x[1:]), errors='coerce')"
   ]
  },
  {
   "cell_type": "code",
   "execution_count": 358,
   "id": "fe72e9e4",
   "metadata": {},
   "outputs": [
    {
     "data": {
      "text/plain": [
       "App                  0\n",
       "Category             0\n",
       "Rating               0\n",
       "Reviews              0\n",
       "Size                 0\n",
       "Installs             0\n",
       "Type                 1\n",
       "Price                0\n",
       "Content Rating       1\n",
       "Genres               0\n",
       "Last Updated         0\n",
       "Current Ver          8\n",
       "Android Ver          3\n",
       "Reviews_conv         1\n",
       "Size_conv         1527\n",
       "Installs_conv        1\n",
       "Price_conv        9593\n",
       "dtype: int64"
      ]
     },
     "execution_count": 358,
     "metadata": {},
     "output_type": "execute_result"
    }
   ],
   "source": [
    "df.isnull().sum()"
   ]
  },
  {
   "cell_type": "code",
   "execution_count": 359,
   "id": "c41399f7",
   "metadata": {},
   "outputs": [
    {
     "data": {
      "text/plain": [
       "array(['Varies with device', '1,000+'], dtype=object)"
      ]
     },
     "execution_count": 359,
     "metadata": {},
     "output_type": "execute_result"
    }
   ],
   "source": [
    "#checking null values for size and price\n",
    "df.loc[df[\"Size_conv\"].isnull(),\"Size\"].unique()"
   ]
  },
  {
   "cell_type": "code",
   "execution_count": 360,
   "id": "e8e3ab10",
   "metadata": {},
   "outputs": [],
   "source": [
    "# imputing size\n",
    "df.loc[df[\"Size\"]==\"1,000+\",\"Size_conv\"]=1000\n",
    "df.loc[df[\"Size\"]==\"Varies with device\",\"Size_conv\"]=df[\"Size_conv\"].mean()"
   ]
  },
  {
   "cell_type": "code",
   "execution_count": 361,
   "id": "8a56463e",
   "metadata": {},
   "outputs": [
    {
     "data": {
      "text/plain": [
       "array(['0', 'Everyone'], dtype=object)"
      ]
     },
     "execution_count": 361,
     "metadata": {},
     "output_type": "execute_result"
    }
   ],
   "source": [
    "df.loc[df[\"Price_conv\"].isnull(),\"Price\"].unique()"
   ]
  },
  {
   "cell_type": "code",
   "execution_count": 362,
   "id": "08ac8e35",
   "metadata": {},
   "outputs": [],
   "source": [
    "# imputing price\n",
    "df.loc[df[\"Price\"]==\"0\",\"Price_conv\"]=0\n",
    "df.loc[df[\"Price\"]==\"Everyone\",\"Price_conv\"]=df[\"Price_conv\"].mean()"
   ]
  },
  {
   "cell_type": "code",
   "execution_count": 363,
   "id": "70681276",
   "metadata": {},
   "outputs": [
    {
     "data": {
      "text/plain": [
       "App               0\n",
       "Category          0\n",
       "Rating            0\n",
       "Reviews           0\n",
       "Size              0\n",
       "Installs          0\n",
       "Type              1\n",
       "Price             0\n",
       "Content Rating    1\n",
       "Genres            0\n",
       "Last Updated      0\n",
       "Current Ver       8\n",
       "Android Ver       3\n",
       "Reviews_conv      1\n",
       "Size_conv         0\n",
       "Installs_conv     1\n",
       "Price_conv        0\n",
       "dtype: int64"
      ]
     },
     "execution_count": 363,
     "metadata": {},
     "output_type": "execute_result"
    }
   ],
   "source": [
    "df.isnull().sum()"
   ]
  },
  {
   "cell_type": "code",
   "execution_count": 364,
   "id": "64879507",
   "metadata": {},
   "outputs": [
    {
     "data": {
      "text/plain": [
       "array(['Free', 'Paid', nan, '0'], dtype=object)"
      ]
     },
     "execution_count": 364,
     "metadata": {},
     "output_type": "execute_result"
    }
   ],
   "source": [
    "df[\"Type\"].unique()"
   ]
  },
  {
   "cell_type": "code",
   "execution_count": 365,
   "id": "d8f2532c",
   "metadata": {},
   "outputs": [],
   "source": [
    "df[\"paid\"] = 0\n",
    "df.loc[df[\"Price_conv\"]>0,\"paid\"]=1\n",
    "df.loc[df[\"Rating\"]>5,\"Rating\"]=5"
   ]
  },
  {
   "cell_type": "code",
   "execution_count": 366,
   "id": "797cfea4",
   "metadata": {},
   "outputs": [],
   "source": [
    "#adding revenue column\n",
    "df[\"Revenue\"] = df[\"Price_conv\"] * df[\"Installs_conv\"]"
   ]
  },
  {
   "cell_type": "markdown",
   "id": "5f811254",
   "metadata": {},
   "source": [
    "# Visualizations\n",
    "- Top 10 apps by number of installs\n",
    "- Top 10 apps by revenue\n",
    "- number of installs, rating by type"
   ]
  },
  {
   "cell_type": "code",
   "execution_count": 367,
   "id": "f5467885",
   "metadata": {},
   "outputs": [
    {
     "data": {
      "text/plain": [
       "4465     0.000000e+00\n",
       "9337     0.000000e+00\n",
       "9917     0.000000e+00\n",
       "7434     0.000000e+00\n",
       "9719     0.000000e+00\n",
       "             ...     \n",
       "382      1.000000e+09\n",
       "3454     1.000000e+09\n",
       "411      1.000000e+09\n",
       "2554     1.000000e+09\n",
       "10472             NaN\n",
       "Name: Installs_conv, Length: 10358, dtype: float64"
      ]
     },
     "execution_count": 367,
     "metadata": {},
     "output_type": "execute_result"
    }
   ],
   "source": [
    "df[\"Installs_conv\"].sort_values()"
   ]
  },
  {
   "cell_type": "code",
   "execution_count": 368,
   "id": "e5482180",
   "metadata": {},
   "outputs": [],
   "source": [
    "d_sorted=df.sort_values('Installs_conv',ascending=False).head(10)"
   ]
  },
  {
   "cell_type": "code",
   "execution_count": 369,
   "id": "1434cf86",
   "metadata": {},
   "outputs": [
    {
     "data": {
      "text/html": [
       "<div>\n",
       "<style scoped>\n",
       "    .dataframe tbody tr th:only-of-type {\n",
       "        vertical-align: middle;\n",
       "    }\n",
       "\n",
       "    .dataframe tbody tr th {\n",
       "        vertical-align: top;\n",
       "    }\n",
       "\n",
       "    .dataframe thead th {\n",
       "        text-align: right;\n",
       "    }\n",
       "</style>\n",
       "<table border=\"1\" class=\"dataframe\">\n",
       "  <thead>\n",
       "    <tr style=\"text-align: right;\">\n",
       "      <th></th>\n",
       "      <th>App</th>\n",
       "      <th>Category</th>\n",
       "      <th>Rating</th>\n",
       "      <th>Reviews</th>\n",
       "      <th>Size</th>\n",
       "      <th>Installs</th>\n",
       "      <th>Type</th>\n",
       "      <th>Price</th>\n",
       "      <th>Content Rating</th>\n",
       "      <th>Genres</th>\n",
       "      <th>Last Updated</th>\n",
       "      <th>Current Ver</th>\n",
       "      <th>Android Ver</th>\n",
       "      <th>Reviews_conv</th>\n",
       "      <th>Size_conv</th>\n",
       "      <th>Installs_conv</th>\n",
       "      <th>Price_conv</th>\n",
       "      <th>paid</th>\n",
       "      <th>Revenue</th>\n",
       "    </tr>\n",
       "  </thead>\n",
       "  <tbody>\n",
       "    <tr>\n",
       "      <th>341</th>\n",
       "      <td>Hangouts</td>\n",
       "      <td>COMMUNICATION</td>\n",
       "      <td>4.0</td>\n",
       "      <td>3419249</td>\n",
       "      <td>Varies with device</td>\n",
       "      <td>1,000,000,000+</td>\n",
       "      <td>Free</td>\n",
       "      <td>0</td>\n",
       "      <td>Everyone</td>\n",
       "      <td>Communication</td>\n",
       "      <td>July 21, 2018</td>\n",
       "      <td>Varies with device</td>\n",
       "      <td>Varies with device</td>\n",
       "      <td>3419249.0</td>\n",
       "      <td>37.387862</td>\n",
       "      <td>1.000000e+09</td>\n",
       "      <td>0.0</td>\n",
       "      <td>0</td>\n",
       "      <td>0.0</td>\n",
       "    </tr>\n",
       "    <tr>\n",
       "      <th>3928</th>\n",
       "      <td>YouTube</td>\n",
       "      <td>VIDEO_PLAYERS</td>\n",
       "      <td>4.3</td>\n",
       "      <td>25623548</td>\n",
       "      <td>Varies with device</td>\n",
       "      <td>1,000,000,000+</td>\n",
       "      <td>Free</td>\n",
       "      <td>0</td>\n",
       "      <td>Teen</td>\n",
       "      <td>Video Players &amp; Editors</td>\n",
       "      <td>August 2, 2018</td>\n",
       "      <td>Varies with device</td>\n",
       "      <td>Varies with device</td>\n",
       "      <td>25623548.0</td>\n",
       "      <td>37.387862</td>\n",
       "      <td>1.000000e+09</td>\n",
       "      <td>0.0</td>\n",
       "      <td>0</td>\n",
       "      <td>0.0</td>\n",
       "    </tr>\n",
       "    <tr>\n",
       "      <th>451</th>\n",
       "      <td>Gmail</td>\n",
       "      <td>COMMUNICATION</td>\n",
       "      <td>4.3</td>\n",
       "      <td>4604483</td>\n",
       "      <td>Varies with device</td>\n",
       "      <td>1,000,000,000+</td>\n",
       "      <td>Free</td>\n",
       "      <td>0</td>\n",
       "      <td>Everyone</td>\n",
       "      <td>Communication</td>\n",
       "      <td>August 2, 2018</td>\n",
       "      <td>Varies with device</td>\n",
       "      <td>Varies with device</td>\n",
       "      <td>4604483.0</td>\n",
       "      <td>37.387862</td>\n",
       "      <td>1.000000e+09</td>\n",
       "      <td>0.0</td>\n",
       "      <td>0</td>\n",
       "      <td>0.0</td>\n",
       "    </tr>\n",
       "    <tr>\n",
       "      <th>3996</th>\n",
       "      <td>Google Chrome: Fast &amp; Secure</td>\n",
       "      <td>COMMUNICATION</td>\n",
       "      <td>4.3</td>\n",
       "      <td>9642112</td>\n",
       "      <td>Varies with device</td>\n",
       "      <td>1,000,000,000+</td>\n",
       "      <td>Free</td>\n",
       "      <td>0</td>\n",
       "      <td>Everyone</td>\n",
       "      <td>Communication</td>\n",
       "      <td>August 1, 2018</td>\n",
       "      <td>Varies with device</td>\n",
       "      <td>Varies with device</td>\n",
       "      <td>9642112.0</td>\n",
       "      <td>37.387862</td>\n",
       "      <td>1.000000e+09</td>\n",
       "      <td>0.0</td>\n",
       "      <td>0</td>\n",
       "      <td>0.0</td>\n",
       "    </tr>\n",
       "    <tr>\n",
       "      <th>1700</th>\n",
       "      <td>Subway Surfers</td>\n",
       "      <td>GAME</td>\n",
       "      <td>4.5</td>\n",
       "      <td>27723193</td>\n",
       "      <td>76M</td>\n",
       "      <td>1,000,000,000+</td>\n",
       "      <td>Free</td>\n",
       "      <td>0</td>\n",
       "      <td>Everyone 10+</td>\n",
       "      <td>Arcade</td>\n",
       "      <td>July 12, 2018</td>\n",
       "      <td>1.90.0</td>\n",
       "      <td>4.1 and up</td>\n",
       "      <td>27723193.0</td>\n",
       "      <td>76.000000</td>\n",
       "      <td>1.000000e+09</td>\n",
       "      <td>0.0</td>\n",
       "      <td>0</td>\n",
       "      <td>0.0</td>\n",
       "    </tr>\n",
       "    <tr>\n",
       "      <th>3454</th>\n",
       "      <td>Google Drive</td>\n",
       "      <td>PRODUCTIVITY</td>\n",
       "      <td>4.4</td>\n",
       "      <td>2731171</td>\n",
       "      <td>Varies with device</td>\n",
       "      <td>1,000,000,000+</td>\n",
       "      <td>Free</td>\n",
       "      <td>0</td>\n",
       "      <td>Everyone</td>\n",
       "      <td>Productivity</td>\n",
       "      <td>August 6, 2018</td>\n",
       "      <td>Varies with device</td>\n",
       "      <td>Varies with device</td>\n",
       "      <td>2731171.0</td>\n",
       "      <td>37.387862</td>\n",
       "      <td>1.000000e+09</td>\n",
       "      <td>0.0</td>\n",
       "      <td>0</td>\n",
       "      <td>0.0</td>\n",
       "    </tr>\n",
       "    <tr>\n",
       "      <th>2808</th>\n",
       "      <td>Google Photos</td>\n",
       "      <td>PHOTOGRAPHY</td>\n",
       "      <td>4.5</td>\n",
       "      <td>10858556</td>\n",
       "      <td>Varies with device</td>\n",
       "      <td>1,000,000,000+</td>\n",
       "      <td>Free</td>\n",
       "      <td>0</td>\n",
       "      <td>Everyone</td>\n",
       "      <td>Photography</td>\n",
       "      <td>August 6, 2018</td>\n",
       "      <td>Varies with device</td>\n",
       "      <td>Varies with device</td>\n",
       "      <td>10858556.0</td>\n",
       "      <td>37.387862</td>\n",
       "      <td>1.000000e+09</td>\n",
       "      <td>0.0</td>\n",
       "      <td>0</td>\n",
       "      <td>0.0</td>\n",
       "    </tr>\n",
       "    <tr>\n",
       "      <th>865</th>\n",
       "      <td>Google Play Games</td>\n",
       "      <td>ENTERTAINMENT</td>\n",
       "      <td>4.3</td>\n",
       "      <td>7165362</td>\n",
       "      <td>Varies with device</td>\n",
       "      <td>1,000,000,000+</td>\n",
       "      <td>Free</td>\n",
       "      <td>0</td>\n",
       "      <td>Teen</td>\n",
       "      <td>Entertainment</td>\n",
       "      <td>July 16, 2018</td>\n",
       "      <td>Varies with device</td>\n",
       "      <td>Varies with device</td>\n",
       "      <td>7165362.0</td>\n",
       "      <td>37.387862</td>\n",
       "      <td>1.000000e+09</td>\n",
       "      <td>0.0</td>\n",
       "      <td>0</td>\n",
       "      <td>0.0</td>\n",
       "    </tr>\n",
       "    <tr>\n",
       "      <th>2853</th>\n",
       "      <td>Google Photos</td>\n",
       "      <td>PHOTOGRAPHY</td>\n",
       "      <td>4.5</td>\n",
       "      <td>10858538</td>\n",
       "      <td>Varies with device</td>\n",
       "      <td>1,000,000,000+</td>\n",
       "      <td>Free</td>\n",
       "      <td>0</td>\n",
       "      <td>Everyone</td>\n",
       "      <td>Photography</td>\n",
       "      <td>August 6, 2018</td>\n",
       "      <td>Varies with device</td>\n",
       "      <td>Varies with device</td>\n",
       "      <td>10858538.0</td>\n",
       "      <td>37.387862</td>\n",
       "      <td>1.000000e+09</td>\n",
       "      <td>0.0</td>\n",
       "      <td>0</td>\n",
       "      <td>0.0</td>\n",
       "    </tr>\n",
       "    <tr>\n",
       "      <th>411</th>\n",
       "      <td>Google Chrome: Fast &amp; Secure</td>\n",
       "      <td>COMMUNICATION</td>\n",
       "      <td>4.3</td>\n",
       "      <td>9643041</td>\n",
       "      <td>Varies with device</td>\n",
       "      <td>1,000,000,000+</td>\n",
       "      <td>Free</td>\n",
       "      <td>0</td>\n",
       "      <td>Everyone</td>\n",
       "      <td>Communication</td>\n",
       "      <td>August 1, 2018</td>\n",
       "      <td>Varies with device</td>\n",
       "      <td>Varies with device</td>\n",
       "      <td>9643041.0</td>\n",
       "      <td>37.387862</td>\n",
       "      <td>1.000000e+09</td>\n",
       "      <td>0.0</td>\n",
       "      <td>0</td>\n",
       "      <td>0.0</td>\n",
       "    </tr>\n",
       "  </tbody>\n",
       "</table>\n",
       "</div>"
      ],
      "text/plain": [
       "                               App       Category  Rating   Reviews  \\\n",
       "341                       Hangouts  COMMUNICATION     4.0   3419249   \n",
       "3928                       YouTube  VIDEO_PLAYERS     4.3  25623548   \n",
       "451                          Gmail  COMMUNICATION     4.3   4604483   \n",
       "3996  Google Chrome: Fast & Secure  COMMUNICATION     4.3   9642112   \n",
       "1700                Subway Surfers           GAME     4.5  27723193   \n",
       "3454                  Google Drive   PRODUCTIVITY     4.4   2731171   \n",
       "2808                 Google Photos    PHOTOGRAPHY     4.5  10858556   \n",
       "865              Google Play Games  ENTERTAINMENT     4.3   7165362   \n",
       "2853                 Google Photos    PHOTOGRAPHY     4.5  10858538   \n",
       "411   Google Chrome: Fast & Secure  COMMUNICATION     4.3   9643041   \n",
       "\n",
       "                    Size        Installs  Type Price Content Rating  \\\n",
       "341   Varies with device  1,000,000,000+  Free     0       Everyone   \n",
       "3928  Varies with device  1,000,000,000+  Free     0           Teen   \n",
       "451   Varies with device  1,000,000,000+  Free     0       Everyone   \n",
       "3996  Varies with device  1,000,000,000+  Free     0       Everyone   \n",
       "1700                 76M  1,000,000,000+  Free     0   Everyone 10+   \n",
       "3454  Varies with device  1,000,000,000+  Free     0       Everyone   \n",
       "2808  Varies with device  1,000,000,000+  Free     0       Everyone   \n",
       "865   Varies with device  1,000,000,000+  Free     0           Teen   \n",
       "2853  Varies with device  1,000,000,000+  Free     0       Everyone   \n",
       "411   Varies with device  1,000,000,000+  Free     0       Everyone   \n",
       "\n",
       "                       Genres    Last Updated         Current Ver  \\\n",
       "341             Communication   July 21, 2018  Varies with device   \n",
       "3928  Video Players & Editors  August 2, 2018  Varies with device   \n",
       "451             Communication  August 2, 2018  Varies with device   \n",
       "3996            Communication  August 1, 2018  Varies with device   \n",
       "1700                   Arcade   July 12, 2018              1.90.0   \n",
       "3454             Productivity  August 6, 2018  Varies with device   \n",
       "2808              Photography  August 6, 2018  Varies with device   \n",
       "865             Entertainment   July 16, 2018  Varies with device   \n",
       "2853              Photography  August 6, 2018  Varies with device   \n",
       "411             Communication  August 1, 2018  Varies with device   \n",
       "\n",
       "             Android Ver  Reviews_conv  Size_conv  Installs_conv  Price_conv  \\\n",
       "341   Varies with device     3419249.0  37.387862   1.000000e+09         0.0   \n",
       "3928  Varies with device    25623548.0  37.387862   1.000000e+09         0.0   \n",
       "451   Varies with device     4604483.0  37.387862   1.000000e+09         0.0   \n",
       "3996  Varies with device     9642112.0  37.387862   1.000000e+09         0.0   \n",
       "1700          4.1 and up    27723193.0  76.000000   1.000000e+09         0.0   \n",
       "3454  Varies with device     2731171.0  37.387862   1.000000e+09         0.0   \n",
       "2808  Varies with device    10858556.0  37.387862   1.000000e+09         0.0   \n",
       "865   Varies with device     7165362.0  37.387862   1.000000e+09         0.0   \n",
       "2853  Varies with device    10858538.0  37.387862   1.000000e+09         0.0   \n",
       "411   Varies with device     9643041.0  37.387862   1.000000e+09         0.0   \n",
       "\n",
       "      paid  Revenue  \n",
       "341      0      0.0  \n",
       "3928     0      0.0  \n",
       "451      0      0.0  \n",
       "3996     0      0.0  \n",
       "1700     0      0.0  \n",
       "3454     0      0.0  \n",
       "2808     0      0.0  \n",
       "865      0      0.0  \n",
       "2853     0      0.0  \n",
       "411      0      0.0  "
      ]
     },
     "execution_count": 369,
     "metadata": {},
     "output_type": "execute_result"
    }
   ],
   "source": [
    "d_sorted"
   ]
  },
  {
   "cell_type": "code",
   "execution_count": 370,
   "id": "22ec8aa2",
   "metadata": {},
   "outputs": [
    {
     "data": {
      "image/png": "[encoded data removed]",
      "text/plain": [
       "<Figure size 432x288 with 1 Axes>"
      ]
     },
     "metadata": {
      "needs_background": "light"
     },
     "output_type": "display_data"
    }
   ],
   "source": [
    "# getting most downloaded apps free\n",
    "\n",
    "plt.bar(df[df[\"paid\"]==0].sort_values('Installs_conv',ascending=False).head(10)[\"App\"], \\\n",
    "        df[df[\"paid\"]==0].sort_values('Installs_conv',ascending=False).head(10)[\"Installs_conv\"])\n",
    "plt.xticks(rotation='vertical')\n",
    "plt.show()"
   ]
  },
  {
   "cell_type": "code",
   "execution_count": 371,
   "id": "0c83098f",
   "metadata": {},
   "outputs": [
    {
     "data": {
      "text/html": [
       "<div>\n",
       "<style scoped>\n",
       "    .dataframe tbody tr th:only-of-type {\n",
       "        vertical-align: middle;\n",
       "    }\n",
       "\n",
       "    .dataframe tbody tr th {\n",
       "        vertical-align: top;\n",
       "    }\n",
       "\n",
       "    .dataframe thead th {\n",
       "        text-align: right;\n",
       "    }\n",
       "</style>\n",
       "<table border=\"1\" class=\"dataframe\">\n",
       "  <thead>\n",
       "    <tr style=\"text-align: right;\">\n",
       "      <th></th>\n",
       "      <th>App</th>\n",
       "      <th>Category</th>\n",
       "      <th>Rating</th>\n",
       "      <th>Reviews</th>\n",
       "      <th>Size</th>\n",
       "      <th>Installs</th>\n",
       "      <th>Type</th>\n",
       "      <th>Price</th>\n",
       "      <th>Content Rating</th>\n",
       "      <th>Genres</th>\n",
       "      <th>Last Updated</th>\n",
       "      <th>Current Ver</th>\n",
       "      <th>Android Ver</th>\n",
       "      <th>Reviews_conv</th>\n",
       "      <th>Size_conv</th>\n",
       "      <th>Installs_conv</th>\n",
       "      <th>Price_conv</th>\n",
       "      <th>paid</th>\n",
       "      <th>Revenue</th>\n",
       "    </tr>\n",
       "  </thead>\n",
       "  <tbody>\n",
       "    <tr>\n",
       "      <th>2241</th>\n",
       "      <td>Minecraft</td>\n",
       "      <td>FAMILY</td>\n",
       "      <td>4.5</td>\n",
       "      <td>2376564</td>\n",
       "      <td>Varies with device</td>\n",
       "      <td>10,000,000+</td>\n",
       "      <td>Paid</td>\n",
       "      <td>$6.99</td>\n",
       "      <td>Everyone 10+</td>\n",
       "      <td>Arcade;Action &amp; Adventure</td>\n",
       "      <td>July 24, 2018</td>\n",
       "      <td>1.5.2.1</td>\n",
       "      <td>Varies with device</td>\n",
       "      <td>2376564.0</td>\n",
       "      <td>37.387862</td>\n",
       "      <td>10000000.0</td>\n",
       "      <td>6.99</td>\n",
       "      <td>1</td>\n",
       "      <td>69900000.0</td>\n",
       "    </tr>\n",
       "    <tr>\n",
       "      <th>4347</th>\n",
       "      <td>Minecraft</td>\n",
       "      <td>FAMILY</td>\n",
       "      <td>4.5</td>\n",
       "      <td>2375336</td>\n",
       "      <td>Varies with device</td>\n",
       "      <td>10,000,000+</td>\n",
       "      <td>Paid</td>\n",
       "      <td>$6.99</td>\n",
       "      <td>Everyone 10+</td>\n",
       "      <td>Arcade;Action &amp; Adventure</td>\n",
       "      <td>July 24, 2018</td>\n",
       "      <td>1.5.2.1</td>\n",
       "      <td>Varies with device</td>\n",
       "      <td>2375336.0</td>\n",
       "      <td>37.387862</td>\n",
       "      <td>10000000.0</td>\n",
       "      <td>6.99</td>\n",
       "      <td>1</td>\n",
       "      <td>69900000.0</td>\n",
       "    </tr>\n",
       "    <tr>\n",
       "      <th>4034</th>\n",
       "      <td>Hitman Sniper</td>\n",
       "      <td>GAME</td>\n",
       "      <td>4.6</td>\n",
       "      <td>408292</td>\n",
       "      <td>29M</td>\n",
       "      <td>10,000,000+</td>\n",
       "      <td>Paid</td>\n",
       "      <td>$0.99</td>\n",
       "      <td>Mature 17+</td>\n",
       "      <td>Action</td>\n",
       "      <td>July 12, 2018</td>\n",
       "      <td>1.7.110758</td>\n",
       "      <td>4.1 and up</td>\n",
       "      <td>408292.0</td>\n",
       "      <td>29.000000</td>\n",
       "      <td>10000000.0</td>\n",
       "      <td>0.99</td>\n",
       "      <td>1</td>\n",
       "      <td>9900000.0</td>\n",
       "    </tr>\n",
       "    <tr>\n",
       "      <th>3403</th>\n",
       "      <td>Beautiful Widgets Pro</td>\n",
       "      <td>PERSONALIZATION</td>\n",
       "      <td>4.2</td>\n",
       "      <td>97890</td>\n",
       "      <td>14M</td>\n",
       "      <td>1,000,000+</td>\n",
       "      <td>Paid</td>\n",
       "      <td>$2.49</td>\n",
       "      <td>Everyone</td>\n",
       "      <td>Personalization</td>\n",
       "      <td>August 24, 2016</td>\n",
       "      <td>5.7.8</td>\n",
       "      <td>2.3 and up</td>\n",
       "      <td>97890.0</td>\n",
       "      <td>14.000000</td>\n",
       "      <td>1000000.0</td>\n",
       "      <td>2.49</td>\n",
       "      <td>1</td>\n",
       "      <td>2490000.0</td>\n",
       "    </tr>\n",
       "    <tr>\n",
       "      <th>5631</th>\n",
       "      <td>Five Nights at Freddy's</td>\n",
       "      <td>GAME</td>\n",
       "      <td>4.6</td>\n",
       "      <td>100805</td>\n",
       "      <td>50M</td>\n",
       "      <td>1,000,000+</td>\n",
       "      <td>Paid</td>\n",
       "      <td>$2.99</td>\n",
       "      <td>Teen</td>\n",
       "      <td>Action</td>\n",
       "      <td>December 2, 2014</td>\n",
       "      <td>1.85</td>\n",
       "      <td>2.3 and up</td>\n",
       "      <td>100805.0</td>\n",
       "      <td>50.000000</td>\n",
       "      <td>1000000.0</td>\n",
       "      <td>2.99</td>\n",
       "      <td>1</td>\n",
       "      <td>2990000.0</td>\n",
       "    </tr>\n",
       "    <tr>\n",
       "      <th>3405</th>\n",
       "      <td>HD Widgets</td>\n",
       "      <td>PERSONALIZATION</td>\n",
       "      <td>4.3</td>\n",
       "      <td>58617</td>\n",
       "      <td>26M</td>\n",
       "      <td>1,000,000+</td>\n",
       "      <td>Paid</td>\n",
       "      <td>$0.99</td>\n",
       "      <td>Everyone</td>\n",
       "      <td>Personalization</td>\n",
       "      <td>December 7, 2016</td>\n",
       "      <td>4.3.2</td>\n",
       "      <td>4.4 and up</td>\n",
       "      <td>58617.0</td>\n",
       "      <td>26.000000</td>\n",
       "      <td>1000000.0</td>\n",
       "      <td>0.99</td>\n",
       "      <td>1</td>\n",
       "      <td>990000.0</td>\n",
       "    </tr>\n",
       "    <tr>\n",
       "      <th>7417</th>\n",
       "      <td>Grand Theft Auto: San Andreas</td>\n",
       "      <td>GAME</td>\n",
       "      <td>4.4</td>\n",
       "      <td>348962</td>\n",
       "      <td>26M</td>\n",
       "      <td>1,000,000+</td>\n",
       "      <td>Paid</td>\n",
       "      <td>$6.99</td>\n",
       "      <td>Mature 17+</td>\n",
       "      <td>Action</td>\n",
       "      <td>March 21, 2015</td>\n",
       "      <td>1.08</td>\n",
       "      <td>3.0 and up</td>\n",
       "      <td>348962.0</td>\n",
       "      <td>26.000000</td>\n",
       "      <td>1000000.0</td>\n",
       "      <td>6.99</td>\n",
       "      <td>1</td>\n",
       "      <td>6990000.0</td>\n",
       "    </tr>\n",
       "    <tr>\n",
       "      <th>8804</th>\n",
       "      <td>DraStic DS Emulator</td>\n",
       "      <td>GAME</td>\n",
       "      <td>4.6</td>\n",
       "      <td>87766</td>\n",
       "      <td>12M</td>\n",
       "      <td>1,000,000+</td>\n",
       "      <td>Paid</td>\n",
       "      <td>$4.99</td>\n",
       "      <td>Everyone</td>\n",
       "      <td>Action</td>\n",
       "      <td>July 19, 2016</td>\n",
       "      <td>r2.5.0.3a</td>\n",
       "      <td>2.3 and up</td>\n",
       "      <td>87766.0</td>\n",
       "      <td>12.000000</td>\n",
       "      <td>1000000.0</td>\n",
       "      <td>4.99</td>\n",
       "      <td>1</td>\n",
       "      <td>4990000.0</td>\n",
       "    </tr>\n",
       "    <tr>\n",
       "      <th>8860</th>\n",
       "      <td>Bloons TD 5</td>\n",
       "      <td>FAMILY</td>\n",
       "      <td>4.6</td>\n",
       "      <td>190086</td>\n",
       "      <td>94M</td>\n",
       "      <td>1,000,000+</td>\n",
       "      <td>Paid</td>\n",
       "      <td>$2.99</td>\n",
       "      <td>Everyone</td>\n",
       "      <td>Strategy</td>\n",
       "      <td>July 13, 2018</td>\n",
       "      <td>3.16</td>\n",
       "      <td>2.3.3 and up</td>\n",
       "      <td>190086.0</td>\n",
       "      <td>94.000000</td>\n",
       "      <td>1000000.0</td>\n",
       "      <td>2.99</td>\n",
       "      <td>1</td>\n",
       "      <td>2990000.0</td>\n",
       "    </tr>\n",
       "    <tr>\n",
       "      <th>4260</th>\n",
       "      <td>Cut the Rope GOLD</td>\n",
       "      <td>FAMILY</td>\n",
       "      <td>4.6</td>\n",
       "      <td>61264</td>\n",
       "      <td>43M</td>\n",
       "      <td>1,000,000+</td>\n",
       "      <td>Paid</td>\n",
       "      <td>$0.99</td>\n",
       "      <td>Everyone</td>\n",
       "      <td>Puzzle</td>\n",
       "      <td>June 19, 2018</td>\n",
       "      <td>3.7.0</td>\n",
       "      <td>4.1 and up</td>\n",
       "      <td>61264.0</td>\n",
       "      <td>43.000000</td>\n",
       "      <td>1000000.0</td>\n",
       "      <td>0.99</td>\n",
       "      <td>1</td>\n",
       "      <td>990000.0</td>\n",
       "    </tr>\n",
       "  </tbody>\n",
       "</table>\n",
       "</div>"
      ],
      "text/plain": [
       "                                App         Category  Rating  Reviews  \\\n",
       "2241                      Minecraft           FAMILY     4.5  2376564   \n",
       "4347                      Minecraft           FAMILY     4.5  2375336   \n",
       "4034                  Hitman Sniper             GAME     4.6   408292   \n",
       "3403          Beautiful Widgets Pro  PERSONALIZATION     4.2    97890   \n",
       "5631        Five Nights at Freddy's             GAME     4.6   100805   \n",
       "3405                     HD Widgets  PERSONALIZATION     4.3    58617   \n",
       "7417  Grand Theft Auto: San Andreas             GAME     4.4   348962   \n",
       "8804            DraStic DS Emulator             GAME     4.6    87766   \n",
       "8860                    Bloons TD 5           FAMILY     4.6   190086   \n",
       "4260              Cut the Rope GOLD           FAMILY     4.6    61264   \n",
       "\n",
       "                    Size     Installs  Type  Price Content Rating  \\\n",
       "2241  Varies with device  10,000,000+  Paid  $6.99   Everyone 10+   \n",
       "4347  Varies with device  10,000,000+  Paid  $6.99   Everyone 10+   \n",
       "4034                 29M  10,000,000+  Paid  $0.99     Mature 17+   \n",
       "3403                 14M   1,000,000+  Paid  $2.49       Everyone   \n",
       "5631                 50M   1,000,000+  Paid  $2.99           Teen   \n",
       "3405                 26M   1,000,000+  Paid  $0.99       Everyone   \n",
       "7417                 26M   1,000,000+  Paid  $6.99     Mature 17+   \n",
       "8804                 12M   1,000,000+  Paid  $4.99       Everyone   \n",
       "8860                 94M   1,000,000+  Paid  $2.99       Everyone   \n",
       "4260                 43M   1,000,000+  Paid  $0.99       Everyone   \n",
       "\n",
       "                         Genres      Last Updated Current Ver  \\\n",
       "2241  Arcade;Action & Adventure     July 24, 2018     1.5.2.1   \n",
       "4347  Arcade;Action & Adventure     July 24, 2018     1.5.2.1   \n",
       "4034                     Action     July 12, 2018  1.7.110758   \n",
       "3403            Personalization   August 24, 2016       5.7.8   \n",
       "5631                     Action  December 2, 2014        1.85   \n",
       "3405            Personalization  December 7, 2016       4.3.2   \n",
       "7417                     Action    March 21, 2015        1.08   \n",
       "8804                     Action     July 19, 2016   r2.5.0.3a   \n",
       "8860                   Strategy     July 13, 2018        3.16   \n",
       "4260                     Puzzle     June 19, 2018       3.7.0   \n",
       "\n",
       "             Android Ver  Reviews_conv  Size_conv  Installs_conv  Price_conv  \\\n",
       "2241  Varies with device     2376564.0  37.387862     10000000.0        6.99   \n",
       "4347  Varies with device     2375336.0  37.387862     10000000.0        6.99   \n",
       "4034          4.1 and up      408292.0  29.000000     10000000.0        0.99   \n",
       "3403          2.3 and up       97890.0  14.000000      1000000.0        2.49   \n",
       "5631          2.3 and up      100805.0  50.000000      1000000.0        2.99   \n",
       "3405          4.4 and up       58617.0  26.000000      1000000.0        0.99   \n",
       "7417          3.0 and up      348962.0  26.000000      1000000.0        6.99   \n",
       "8804          2.3 and up       87766.0  12.000000      1000000.0        4.99   \n",
       "8860        2.3.3 and up      190086.0  94.000000      1000000.0        2.99   \n",
       "4260          4.1 and up       61264.0  43.000000      1000000.0        0.99   \n",
       "\n",
       "      paid     Revenue  \n",
       "2241     1  69900000.0  \n",
       "4347     1  69900000.0  \n",
       "4034     1   9900000.0  \n",
       "3403     1   2490000.0  \n",
       "5631     1   2990000.0  \n",
       "3405     1    990000.0  \n",
       "7417     1   6990000.0  \n",
       "8804     1   4990000.0  \n",
       "8860     1   2990000.0  \n",
       "4260     1    990000.0  "
      ]
     },
     "execution_count": 371,
     "metadata": {},
     "output_type": "execute_result"
    }
   ],
   "source": [
    "df[df[\"paid\"]==1].sort_values('Installs_conv',ascending=False).head(10)"
   ]
  },
  {
   "cell_type": "code",
   "execution_count": 372,
   "id": "41707153",
   "metadata": {},
   "outputs": [
    {
     "data": {
      "image/png": "[encoded data removed]",
      "text/plain": [
       "<Figure size 432x288 with 1 Axes>"
      ]
     },
     "metadata": {
      "needs_background": "light"
     },
     "output_type": "display_data"
    }
   ],
   "source": [
    "# getting most downloaded apps paid\n",
    "\n",
    "plt.bar(df[df[\"paid\"]==1].sort_values('Installs_conv',ascending=False).head(10)[\"App\"], \\\n",
    "        df[df[\"paid\"]==1].sort_values('Installs_conv',ascending=False).head(10)[\"Installs_conv\"])\n",
    "plt.xticks(rotation='vertical')\n",
    "plt.show()"
   ]
  },
  {
   "cell_type": "code",
   "execution_count": 373,
   "id": "2ffa4e3f",
   "metadata": {},
   "outputs": [
    {
     "data": {
      "image/png": "[encoded data removed]",
      "text/plain": [
       "<Figure size 432x288 with 1 Axes>"
      ]
     },
     "metadata": {
      "needs_background": "light"
     },
     "output_type": "display_data"
    }
   ],
   "source": [
    "# apps with most revenue\n",
    "\n",
    "plt.bar(df.sort_values('Revenue',ascending=False).head(10)[\"App\"], \\\n",
    "        df.sort_values('Revenue',ascending=False).head(10)[\"Revenue\"])\n",
    "plt.xticks(rotation='vertical')\n",
    "plt.show()"
   ]
  },
  {
   "cell_type": "code",
   "execution_count": 374,
   "id": "5a14eeb4",
   "metadata": {},
   "outputs": [
    {
     "data": {
      "image/png": "[encoded data removed]",
      "text/plain": [
       "<Figure size 432x288 with 1 Axes>"
      ]
     },
     "metadata": {
      "needs_background": "light"
     },
     "output_type": "display_data"
    }
   ],
   "source": [
    "# apps largest by size\n",
    "\n",
    "plt.bar(df.sort_values('Size_conv',ascending=False).head(10)[\"App\"], \\\n",
    "        df.sort_values('Size_conv',ascending=False).head(10)[\"Size_conv\"])\n",
    "plt.xticks(rotation='vertical')\n",
    "plt.show()"
   ]
  },
  {
   "cell_type": "code",
   "execution_count": 389,
   "id": "6b3f5f79",
   "metadata": {},
   "outputs": [
    {
     "data": {
      "image/png": "[encoded data removed]",
      "text/plain": [
       "<Figure size 432x288 with 1 Axes>"
      ]
     },
     "metadata": {
      "needs_background": "light"
     },
     "output_type": "display_data"
    }
   ],
   "source": [
    "categ = pd.DataFrame(df.groupby('Category')['Rating'].mean().sort_values(ascending=False))\n",
    "categ = categ.reset_index()\n",
    "# average rating by category\n",
    "# apps with most revenue\n",
    "\n",
    "plt.bar(categ[\"Category\"][1:6],categ[\"Rating\"][1:6])\n",
    "plt.xticks(rotation='vertical')\n",
    "plt.show()"
   ]
  },
  {
   "cell_type": "code",
   "execution_count": 376,
   "id": "d2a1e164",
   "metadata": {},
   "outputs": [
    {
     "data": {
      "image/png": "[encoded data removed]",
      "text/plain": [
       "<Figure size 432x288 with 1 Axes>"
      ]
     },
     "metadata": {
      "needs_background": "light"
     },
     "output_type": "display_data"
    }
   ],
   "source": [
    "categ = pd.DataFrame(df.groupby('Category')['Installs_conv'].mean().sort_values(ascending=False))\n",
    "categ = categ.reset_index()\n",
    "# average rating by category\n",
    "# apps with most revenue\n",
    "\n",
    "plt.bar(categ[\"Category\"][0:5],categ[\"Installs_conv\"][0:5])\n",
    "plt.xticks(rotation='vertical')\n",
    "plt.show()"
   ]
  },
  {
   "cell_type": "code",
   "execution_count": 377,
   "id": "3167325a",
   "metadata": {},
   "outputs": [
    {
     "data": {
      "text/html": [
       "<div>\n",
       "<style scoped>\n",
       "    .dataframe tbody tr th:only-of-type {\n",
       "        vertical-align: middle;\n",
       "    }\n",
       "\n",
       "    .dataframe tbody tr th {\n",
       "        vertical-align: top;\n",
       "    }\n",
       "\n",
       "    .dataframe thead th {\n",
       "        text-align: right;\n",
       "    }\n",
       "</style>\n",
       "<table border=\"1\" class=\"dataframe\">\n",
       "  <thead>\n",
       "    <tr style=\"text-align: right;\">\n",
       "      <th></th>\n",
       "      <th>Rating</th>\n",
       "      <th>Reviews_conv</th>\n",
       "      <th>Size_conv</th>\n",
       "      <th>Installs_conv</th>\n",
       "      <th>Price_conv</th>\n",
       "      <th>paid</th>\n",
       "      <th>Revenue</th>\n",
       "    </tr>\n",
       "  </thead>\n",
       "  <tbody>\n",
       "    <tr>\n",
       "      <th>count</th>\n",
       "      <td>-92.014178</td>\n",
       "      <td>-92.024604</td>\n",
       "      <td>-92.014178</td>\n",
       "      <td>-92.024604</td>\n",
       "      <td>-92.014178</td>\n",
       "      <td>-92.014178</td>\n",
       "      <td>-92.024604</td>\n",
       "    </tr>\n",
       "    <tr>\n",
       "      <th>mean</th>\n",
       "      <td>1.548653</td>\n",
       "      <td>-97.278804</td>\n",
       "      <td>64.034321</td>\n",
       "      <td>-99.407767</td>\n",
       "      <td>inf</td>\n",
       "      <td>inf</td>\n",
       "      <td>inf</td>\n",
       "    </tr>\n",
       "    <tr>\n",
       "      <th>std</th>\n",
       "      <td>3.567596</td>\n",
       "      <td>-95.580472</td>\n",
       "      <td>77.204677</td>\n",
       "      <td>-99.224419</td>\n",
       "      <td>inf</td>\n",
       "      <td>NaN</td>\n",
       "      <td>inf</td>\n",
       "    </tr>\n",
       "    <tr>\n",
       "      <th>min</th>\n",
       "      <td>0.000000</td>\n",
       "      <td>NaN</td>\n",
       "      <td>0.000000</td>\n",
       "      <td>NaN</td>\n",
       "      <td>inf</td>\n",
       "      <td>inf</td>\n",
       "      <td>NaN</td>\n",
       "    </tr>\n",
       "    <tr>\n",
       "      <th>25%</th>\n",
       "      <td>2.183959</td>\n",
       "      <td>-84.615385</td>\n",
       "      <td>-19.402985</td>\n",
       "      <td>-98.000000</td>\n",
       "      <td>inf</td>\n",
       "      <td>inf</td>\n",
       "      <td>inf</td>\n",
       "    </tr>\n",
       "    <tr>\n",
       "      <th>50%</th>\n",
       "      <td>2.380952</td>\n",
       "      <td>-96.082699</td>\n",
       "      <td>0.000000</td>\n",
       "      <td>-99.000000</td>\n",
       "      <td>inf</td>\n",
       "      <td>inf</td>\n",
       "      <td>inf</td>\n",
       "    </tr>\n",
       "    <tr>\n",
       "      <th>75%</th>\n",
       "      <td>2.222222</td>\n",
       "      <td>-97.624133</td>\n",
       "      <td>0.000000</td>\n",
       "      <td>-99.800000</td>\n",
       "      <td>inf</td>\n",
       "      <td>inf</td>\n",
       "      <td>inf</td>\n",
       "    </tr>\n",
       "    <tr>\n",
       "      <th>max</th>\n",
       "      <td>0.000000</td>\n",
       "      <td>-96.959294</td>\n",
       "      <td>2.615694</td>\n",
       "      <td>-99.000000</td>\n",
       "      <td>inf</td>\n",
       "      <td>inf</td>\n",
       "      <td>inf</td>\n",
       "    </tr>\n",
       "  </tbody>\n",
       "</table>\n",
       "</div>"
      ],
      "text/plain": [
       "          Rating  Reviews_conv  Size_conv  Installs_conv  Price_conv  \\\n",
       "count -92.014178    -92.024604 -92.014178     -92.024604  -92.014178   \n",
       "mean    1.548653    -97.278804  64.034321     -99.407767         inf   \n",
       "std     3.567596    -95.580472  77.204677     -99.224419         inf   \n",
       "min     0.000000           NaN   0.000000            NaN         inf   \n",
       "25%     2.183959    -84.615385 -19.402985     -98.000000         inf   \n",
       "50%     2.380952    -96.082699   0.000000     -99.000000         inf   \n",
       "75%     2.222222    -97.624133   0.000000     -99.800000         inf   \n",
       "max     0.000000    -96.959294   2.615694     -99.000000         inf   \n",
       "\n",
       "            paid    Revenue  \n",
       "count -92.014178 -92.024604  \n",
       "mean         inf        inf  \n",
       "std          NaN        inf  \n",
       "min          inf        NaN  \n",
       "25%          inf        inf  \n",
       "50%          inf        inf  \n",
       "75%          inf        inf  \n",
       "max          inf        inf  "
      ]
     },
     "execution_count": 377,
     "metadata": {},
     "output_type": "execute_result"
    }
   ],
   "source": [
    "# comparing installs by free paid type\n",
    "(df[df[\"paid\"]==1].describe() - df[df[\"paid\"]==0].describe())/df[df[\"paid\"]==0].describe()*100"
   ]
  },
  {
   "cell_type": "code",
   "execution_count": 378,
   "id": "a2c3e2c3",
   "metadata": {},
   "outputs": [
    {
     "data": {
      "image/png": "[encoded data removed]",
      "text/plain": [
       "<Figure size 432x288 with 1 Axes>"
      ]
     },
     "metadata": {
      "needs_background": "light"
     },
     "output_type": "display_data"
    }
   ],
   "source": [
    "# plotting rating distribution\n",
    "sns.histplot(data=df, x='Rating');\n",
    "plt.title(\"Histogram\");"
   ]
  },
  {
   "cell_type": "markdown",
   "id": "bd960083",
   "metadata": {},
   "source": [
    "# questions to investigate:\n",
    "- if free apps earn more than priced apps\n",
    "- which area has scope for improvement thus new market\n",
    "- if size of an app is negatively correlated with number of downloads"
   ]
  },
  {
   "cell_type": "code",
   "execution_count": 379,
   "id": "5e73b127",
   "metadata": {},
   "outputs": [
    {
     "data": {
      "text/plain": [
       "0.0073073880002774635"
      ]
     },
     "execution_count": 379,
     "metadata": {},
     "output_type": "execute_result"
    }
   ],
   "source": [
    "# correlation between size and number of downloads\n",
    "df[\"Installs_conv\"].corr(df[\"Size_conv\"])"
   ]
  },
  {
   "cell_type": "code",
   "execution_count": 400,
   "id": "9ac92dc6",
   "metadata": {},
   "outputs": [
    {
     "data": {
      "text/plain": [
       "0.0036624526649547532"
      ]
     },
     "execution_count": 400,
     "metadata": {},
     "output_type": "execute_result"
    }
   ],
   "source": [
    "# correlation between size and number of downloads\n",
    "df[\"Revenue\"].corr(df[\"Size_conv\"])"
   ]
  },
  {
   "cell_type": "code",
   "execution_count": 394,
   "id": "702980f1",
   "metadata": {},
   "outputs": [
    {
     "data": {
      "text/plain": [
       "0.009776773296587762"
      ]
     },
     "execution_count": 394,
     "metadata": {},
     "output_type": "execute_result"
    }
   ],
   "source": [
    "# correlation between size and number of downloads\n",
    "df[\"Rating\"].corr(df[\"Revenue\"])"
   ]
  },
  {
   "cell_type": "code",
   "execution_count": 380,
   "id": "69de4460",
   "metadata": {},
   "outputs": [
    {
     "data": {
      "image/png": "[encoded data removed]",
      "text/plain": [
       "<Figure size 432x288 with 1 Axes>"
      ]
     },
     "metadata": {
      "needs_background": "light"
     },
     "output_type": "display_data"
    }
   ],
   "source": [
    "# most profitable apps\n",
    "categ = pd.DataFrame(df.groupby('Category')['Revenue'].mean().sort_values(ascending=False))\n",
    "categ = categ.reset_index()\n",
    "# average rating by category\n",
    "# apps with most revenue\n",
    "\n",
    "plt.bar(categ[\"Category\"][0:5],categ[\"Revenue\"][0:5])\n",
    "plt.xticks(rotation='vertical')\n",
    "plt.show()"
   ]
  },
  {
   "cell_type": "code",
   "execution_count": 392,
   "id": "9ad38f1d",
   "metadata": {},
   "outputs": [
    {
     "data": {
      "image/png": "[encoded data removed]",
      "text/plain": [
       "<Figure size 432x288 with 1 Axes>"
      ]
     },
     "metadata": {
      "needs_background": "light"
     },
     "output_type": "display_data"
    }
   ],
   "source": [
    "# apps with most revenue\n",
    "\n",
    "plt.bar(df[df['Category']==\"LIFESTYLE\"].sort_values('Revenue',ascending=False).head(10)[\"App\"], \\\n",
    "        df[df['Category']==\"LIFESTYLE\"].sort_values('Revenue',ascending=False).head(10)[\"Revenue\"])\n",
    "plt.xticks(rotation='vertical')\n",
    "plt.show()"
   ]
  },
  {
   "cell_type": "code",
   "execution_count": 381,
   "id": "b6ba7c40",
   "metadata": {},
   "outputs": [
    {
     "data": {
      "image/png": "[encoded data removed]",
      "text/plain": [
       "<Figure size 432x288 with 1 Axes>"
      ]
     },
     "metadata": {
      "needs_background": "light"
     },
     "output_type": "display_data"
    }
   ],
   "source": [
    "# lowest rating apps\n",
    "categ = pd.DataFrame(df.groupby('Category')['Rating'].mean().sort_values(ascending=True))\n",
    "categ = categ.reset_index()\n",
    "# average rating by category\n",
    "# apps with most revenue\n",
    "\n",
    "plt.bar(categ[\"Category\"][0:5],categ[\"Rating\"][0:5])\n",
    "plt.xticks(rotation='vertical')\n",
    "plt.show()"
   ]
  },
  {
   "cell_type": "code",
   "execution_count": 397,
   "id": "48440bcf",
   "metadata": {},
   "outputs": [
    {
     "data": {
      "text/html": [
       "<div>\n",
       "<style scoped>\n",
       "    .dataframe tbody tr th:only-of-type {\n",
       "        vertical-align: middle;\n",
       "    }\n",
       "\n",
       "    .dataframe tbody tr th {\n",
       "        vertical-align: top;\n",
       "    }\n",
       "\n",
       "    .dataframe thead th {\n",
       "        text-align: right;\n",
       "    }\n",
       "</style>\n",
       "<table border=\"1\" class=\"dataframe\">\n",
       "  <thead>\n",
       "    <tr style=\"text-align: right;\">\n",
       "      <th></th>\n",
       "      <th>Rating</th>\n",
       "      <th>Reviews_conv</th>\n",
       "      <th>Size_conv</th>\n",
       "      <th>Installs_conv</th>\n",
       "      <th>Price_conv</th>\n",
       "      <th>paid</th>\n",
       "      <th>Revenue</th>\n",
       "    </tr>\n",
       "  </thead>\n",
       "  <tbody>\n",
       "    <tr>\n",
       "      <th>count</th>\n",
       "      <td>766.000000</td>\n",
       "      <td>7.650000e+02</td>\n",
       "      <td>766.000000</td>\n",
       "      <td>7.650000e+02</td>\n",
       "      <td>766.000000</td>\n",
       "      <td>766.0</td>\n",
       "      <td>7.650000e+02</td>\n",
       "    </tr>\n",
       "    <tr>\n",
       "      <th>mean</th>\n",
       "      <td>4.248186</td>\n",
       "      <td>1.190055e+04</td>\n",
       "      <td>58.556008</td>\n",
       "      <td>9.049135e+04</td>\n",
       "      <td>13.938683</td>\n",
       "      <td>1.0</td>\n",
       "      <td>4.803554e+05</td>\n",
       "    </tr>\n",
       "    <tr>\n",
       "      <th>std</th>\n",
       "      <td>0.499710</td>\n",
       "      <td>1.237318e+05</td>\n",
       "      <td>152.919270</td>\n",
       "      <td>6.458706e+05</td>\n",
       "      <td>58.370647</td>\n",
       "      <td>0.0</td>\n",
       "      <td>3.974358e+06</td>\n",
       "    </tr>\n",
       "    <tr>\n",
       "      <th>min</th>\n",
       "      <td>1.000000</td>\n",
       "      <td>0.000000e+00</td>\n",
       "      <td>1.000000</td>\n",
       "      <td>0.000000e+00</td>\n",
       "      <td>0.990000</td>\n",
       "      <td>1.0</td>\n",
       "      <td>0.000000e+00</td>\n",
       "    </tr>\n",
       "    <tr>\n",
       "      <th>25%</th>\n",
       "      <td>4.189542</td>\n",
       "      <td>6.000000e+00</td>\n",
       "      <td>5.400000</td>\n",
       "      <td>1.000000e+02</td>\n",
       "      <td>1.490000</td>\n",
       "      <td>1.0</td>\n",
       "      <td>2.990000e+02</td>\n",
       "    </tr>\n",
       "    <tr>\n",
       "      <th>50%</th>\n",
       "      <td>4.300000</td>\n",
       "      <td>9.000000e+01</td>\n",
       "      <td>20.000000</td>\n",
       "      <td>1.000000e+03</td>\n",
       "      <td>2.990000</td>\n",
       "      <td>1.0</td>\n",
       "      <td>4.990000e+03</td>\n",
       "    </tr>\n",
       "    <tr>\n",
       "      <th>75%</th>\n",
       "      <td>4.600000</td>\n",
       "      <td>1.357000e+03</td>\n",
       "      <td>37.387862</td>\n",
       "      <td>1.000000e+04</td>\n",
       "      <td>4.990000</td>\n",
       "      <td>1.0</td>\n",
       "      <td>6.990000e+04</td>\n",
       "    </tr>\n",
       "    <tr>\n",
       "      <th>max</th>\n",
       "      <td>5.000000</td>\n",
       "      <td>2.376564e+06</td>\n",
       "      <td>1020.000000</td>\n",
       "      <td>1.000000e+07</td>\n",
       "      <td>400.000000</td>\n",
       "      <td>1.0</td>\n",
       "      <td>6.990000e+07</td>\n",
       "    </tr>\n",
       "  </tbody>\n",
       "</table>\n",
       "</div>"
      ],
      "text/plain": [
       "           Rating  Reviews_conv    Size_conv  Installs_conv  Price_conv  \\\n",
       "count  766.000000  7.650000e+02   766.000000   7.650000e+02  766.000000   \n",
       "mean     4.248186  1.190055e+04    58.556008   9.049135e+04   13.938683   \n",
       "std      0.499710  1.237318e+05   152.919270   6.458706e+05   58.370647   \n",
       "min      1.000000  0.000000e+00     1.000000   0.000000e+00    0.990000   \n",
       "25%      4.189542  6.000000e+00     5.400000   1.000000e+02    1.490000   \n",
       "50%      4.300000  9.000000e+01    20.000000   1.000000e+03    2.990000   \n",
       "75%      4.600000  1.357000e+03    37.387862   1.000000e+04    4.990000   \n",
       "max      5.000000  2.376564e+06  1020.000000   1.000000e+07  400.000000   \n",
       "\n",
       "        paid       Revenue  \n",
       "count  766.0  7.650000e+02  \n",
       "mean     1.0  4.803554e+05  \n",
       "std      0.0  3.974358e+06  \n",
       "min      1.0  0.000000e+00  \n",
       "25%      1.0  2.990000e+02  \n",
       "50%      1.0  4.990000e+03  \n",
       "75%      1.0  6.990000e+04  \n",
       "max      1.0  6.990000e+07  "
      ]
     },
     "execution_count": 397,
     "metadata": {},
     "output_type": "execute_result"
    }
   ],
   "source": [
    "df[df[\"paid\"]==1].describe()"
   ]
  }
 ],
 "metadata": {
  "kernelspec": {
   "display_name": "Python 3",
   "language": "python",
   "name": "python3"
  },
  "language_info": {
   "codemirror_mode": {
    "name": "ipython",
    "version": 3
   },
   "file_extension": ".py",
   "mimetype": "text/x-python",
   "name": "python",
   "nbconvert_exporter": "python",
   "pygments_lexer": "ipython3",
   "version": "3.8.8"
  }
 },
 "nbformat": 4,
 "nbformat_minor": 5
}
